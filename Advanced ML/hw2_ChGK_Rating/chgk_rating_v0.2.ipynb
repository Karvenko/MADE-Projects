{
 "cells": [
  {
   "cell_type": "code",
   "execution_count": 1,
   "id": "champion-worship",
   "metadata": {},
   "outputs": [],
   "source": [
    "import pandas as pd\n",
    "import numpy as np\n",
    "import matplotlib.pyplot as plt\n",
    "from scipy.stats import kendalltau, spearmanr\n",
    "%matplotlib inline"
   ]
  },
  {
   "cell_type": "markdown",
   "id": "reflected-brave",
   "metadata": {},
   "source": [
    "## Task 1 - load & filter data"
   ]
  },
  {
   "cell_type": "code",
   "execution_count": 2,
   "id": "ordered-wagon",
   "metadata": {},
   "outputs": [],
   "source": [
    "tour_df = pd.read_pickle('tournaments.pkl')\n",
    "player_df = pd.read_pickle('players.pkl')\n",
    "results_df = pd.read_pickle('results.pkl')"
   ]
  },
  {
   "cell_type": "code",
   "execution_count": 3,
   "id": "centered-vatican",
   "metadata": {},
   "outputs": [],
   "source": [
    "def get_tours_for_year(year, tours_dict=tour_df, results_dict=results_df):\n",
    "    result = []\n",
    "    for key, value in tours_dict.items():\n",
    "        if value['dateStart'][:4] == str(year):\n",
    "            tour_id = value['id']\n",
    "            if len(results_dict[tour_id]) > 0 and 'mask' in results_dict[tour_id][0].keys() and results_dict[tour_id][0]['mask']:\n",
    "                result.append(tour_id)\n",
    "    return result"
   ]
  },
  {
   "cell_type": "code",
   "execution_count": 4,
   "id": "voluntary-branch",
   "metadata": {},
   "outputs": [
    {
     "name": "stdout",
     "output_type": "stream",
     "text": [
      "674 173\n"
     ]
    }
   ],
   "source": [
    "train_tours = get_tours_for_year(2019)\n",
    "test_tours = get_tours_for_year(2020)\n",
    "print(len(train_tours), len(test_tours))"
   ]
  },
  {
   "cell_type": "code",
   "execution_count": 5,
   "id": "abandoned-warner",
   "metadata": {},
   "outputs": [],
   "source": [
    "datasets = {'train': train_tours, 'test': test_tours}"
   ]
  },
  {
   "cell_type": "markdown",
   "id": "aboriginal-fleece",
   "metadata": {},
   "source": [
    "## Tasks 2 & 3 - Simple baseline model and predictions"
   ]
  },
  {
   "cell_type": "code",
   "execution_count": 6,
   "id": "breathing-terrorism",
   "metadata": {},
   "outputs": [],
   "source": [
    "def get_array_from_mask(mask):\n",
    "    if mask:\n",
    "        arr = []\n",
    "        for c in mask:\n",
    "            if c.isdigit():\n",
    "                arr.append(int(c))\n",
    "        return np.array(arr, dtype=np.int8)"
   ]
  },
  {
   "cell_type": "code",
   "execution_count": 7,
   "id": "damaged-saint",
   "metadata": {},
   "outputs": [],
   "source": [
    "player_ratings = {}\n",
    "for cur in train_tours:\n",
    "    cur_tour = results_df[cur]\n",
    "    for team in cur_tour:\n",
    "        if ('mask' not in team.keys()) or team['mask'] == None:\n",
    "            continue\n",
    "        mask_arr = get_array_from_mask(team['mask'])\n",
    "        player_ids = [p['player']['id'] for p in team['teamMembers']]\n",
    "        for p_id in player_ids:\n",
    "            if p_id in player_ratings.keys():\n",
    "                player_ratings[p_id][0] += sum(mask_arr)\n",
    "                player_ratings[p_id][1] += len(mask_arr)\n",
    "            else:\n",
    "                player_ratings[p_id] = [sum(mask_arr), len(mask_arr)]"
   ]
  },
  {
   "cell_type": "code",
   "execution_count": 8,
   "id": "sexual-chrome",
   "metadata": {},
   "outputs": [],
   "source": [
    "float_ratings = sorted([(key, value[0] / value[1]) for key, value in player_ratings.items()],\n",
    "                       key=lambda x: x[1], reverse=True)"
   ]
  },
  {
   "cell_type": "code",
   "execution_count": 9,
   "id": "fiscal-excitement",
   "metadata": {},
   "outputs": [
    {
     "name": "stdout",
     "output_type": "stream",
     "text": [
      "0.3356692464838532\n"
     ]
    }
   ],
   "source": [
    "DEFAULT_RATING = np.median([x[1] for x in float_ratings]) #value to fill if new user is met\n",
    "print(DEFAULT_RATING)"
   ]
  },
  {
   "cell_type": "code",
   "execution_count": 10,
   "id": "embedded-logic",
   "metadata": {},
   "outputs": [],
   "source": [
    "def get_real_ranking(tour):\n",
    "    \"\"\"returns team members and team ranks from passed tournament\"\"\"\n",
    "    members = []\n",
    "    ranks = []\n",
    "    for team in tour:\n",
    "        ranks.append(team['position'])\n",
    "        members.append([p['player']['id'] for p in team['teamMembers']])\n",
    "    return members, ranks"
   ]
  },
  {
   "cell_type": "code",
   "execution_count": 14,
   "id": "constitutional-infrared",
   "metadata": {},
   "outputs": [],
   "source": [
    "def calc_team_rating(members, player_ratings=player_ratings, mode='average'):\n",
    "    \"\"\"Calculate team rating based on players ratings. 2 modes - average and \n",
    "    linear: r1 + 1/2 * r2 + ... + 1/n * rn\"\"\"\n",
    "    rating = 0\n",
    "    if len(members) == 0:\n",
    "        return 0\n",
    "    if mode == 'average':\n",
    "        for m in members:\n",
    "            try:\n",
    "                rating += player_ratings[m][0] / player_ratings[m][1]\n",
    "            except:\n",
    "                rating += DEFAULT_RATING\n",
    "        return rating / len(members)\n",
    "    elif mode == 'linear':\n",
    "        tmp_r = []\n",
    "        for m in members:\n",
    "            try:\n",
    "                tmp_r.append(player_ratings[m][0] / player_ratings[m][1])\n",
    "            except:\n",
    "                tmp_r.append(DEFAULT_RATING)\n",
    "        tmp_r = sorted(tmp_r, reverse=True)\n",
    "        for i, r in enumerate(tmp_r):\n",
    "            rating += r / (i + 1)\n",
    "        return rating\n",
    "#         for i, m in enumerate(members):\n",
    "#             try:\n",
    "#                 rating += (player_ratings[m][0] / player_ratings[m][1]) * (1 / (i + 1))\n",
    "#             except:\n",
    "#                 rating += DEFAULT_RATING * (1 / (i + 1))\n",
    "#         return rating"
   ]
  },
  {
   "cell_type": "code",
   "execution_count": 12,
   "id": "tight-advocacy",
   "metadata": {},
   "outputs": [
    {
     "name": "stderr",
     "output_type": "stream",
     "text": [
      "/home/karv/.local/lib/python3.8/site-packages/scipy/stats/stats.py:4264: SpearmanRConstantInputWarning: An input array is constant; the correlation coefficent is not defined.\n",
      "  warnings.warn(SpearmanRConstantInputWarning())\n"
     ]
    },
    {
     "name": "stdout",
     "output_type": "stream",
     "text": [
      "Dataset train: Avg. Spearman: -0.7937356425192034, Avg. Kendall: -0.6406845079670468\n",
      "Dataset test: Avg. Spearman: -0.6984761076492578, Avg. Kendall: -0.5408720440451393\n"
     ]
    }
   ],
   "source": [
    "#Correlations with simple predictions and average team rating\n",
    "for name, tours in datasets.items():\n",
    "    spearmans = []\n",
    "    kendalls = []\n",
    "    for tour in tours:\n",
    "        members, ranks = get_real_ranking(results_df[tour])\n",
    "        predicted_ratings = []\n",
    "        for team in members:\n",
    "            predicted_ratings.append(calc_team_rating(team, mode='average'))\n",
    "    #     corr = np.corrcoef(ranks, predicted_ratings)[0][1]\n",
    "        sc = spearmanr(ranks, predicted_ratings)[0]\n",
    "        kc = kendalltau(ranks, predicted_ratings)[0]\n",
    "        if sc is not np.nan and kc is not np.nan:\n",
    "            spearmans.append(sc)\n",
    "            kendalls.append(kc)\n",
    "    #     print(f'Tour id: {tour}, n_teams: {len(ranks)}, spearman: {spearman_corr}, kendall: {kendal_corr}')\n",
    "    print(f'Dataset {name}: Avg. Spearman: {np.mean(spearmans)}, Avg. Kendall: {np.mean(kendalls)}')"
   ]
  },
  {
   "cell_type": "code",
   "execution_count": 13,
   "id": "american-gilbert",
   "metadata": {},
   "outputs": [
    {
     "name": "stdout",
     "output_type": "stream",
     "text": [
      "Dataset train: Avg. Spearman: 0.7873797452065571, Avg. Kendall: 0.6328318764764276\n",
      "Dataset test: Avg. Spearman: 0.7028479154659221, Avg. Kendall: 0.5463412217059841\n"
     ]
    }
   ],
   "source": [
    "#Correlations with simple predictions and linear team rating\n",
    "for name, tours in datasets.items():\n",
    "    spearmans = []\n",
    "    kendalls = []\n",
    "    for tour in tours:\n",
    "        members, ranks = get_real_ranking(results_df[tour])\n",
    "        predicted_ratings = []\n",
    "        for team in members:\n",
    "            predicted_ratings.append(calc_team_rating(team, mode='linear'))\n",
    "    #     corr = np.corrcoef(ranks, predicted_ratings)[0][1]\n",
    "        sc = spearmanr(ranks, predicted_ratings)[0]\n",
    "        kc = kendalltau(ranks, predicted_ratings)[0]\n",
    "        if sc is not np.nan and kc is not np.nan:\n",
    "            spearmans.append(sc)\n",
    "            kendalls.append(kc)\n",
    "    #     print(f'Tour id: {tour}, n_teams: {len(ranks)}, spearman: {spearman_corr}, kendall: {kendal_corr}')\n",
    "    print(f'Dataset {name}: Avg. Spearman: {np.mean(spearmans)}, Avg. Kendall: {np.mean(kendalls)}')"
   ]
  },
  {
   "cell_type": "code",
   "execution_count": null,
   "id": "photographic-perry",
   "metadata": {},
   "outputs": [],
   "source": []
  }
 ],
 "metadata": {
  "kernelspec": {
   "display_name": "Python 3",
   "language": "python",
   "name": "python3"
  },
  "language_info": {
   "codemirror_mode": {
    "name": "ipython",
    "version": 3
   },
   "file_extension": ".py",
   "mimetype": "text/x-python",
   "name": "python",
   "nbconvert_exporter": "python",
   "pygments_lexer": "ipython3",
   "version": "3.8.5"
  }
 },
 "nbformat": 4,
 "nbformat_minor": 5
}
